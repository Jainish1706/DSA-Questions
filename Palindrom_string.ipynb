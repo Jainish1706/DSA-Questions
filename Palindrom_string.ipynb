{
  "nbformat": 4,
  "nbformat_minor": 0,
  "metadata": {
    "colab": {
      "provenance": []
    },
    "kernelspec": {
      "name": "python3",
      "display_name": "Python 3"
    },
    "language_info": {
      "name": "python"
    }
  },
  "cells": [
    {
      "cell_type": "markdown",
      "source": [
        "Problem statement\n",
        "You are given a string 'S'. Your task is to check whether the string is palindrome or not. For checking palindrome, consider alphabets and numbers only and ignore the symbols and whitespaces.\n",
        "\n",
        "Note :\n",
        "\n",
        "String 'S' is NOT case sensitive.\n",
        "\n",
        "\n"
      ],
      "metadata": {
        "id": "BLLaAQiD0IH1"
      }
    },
    {
      "cell_type": "code",
      "source": [
        "from os import *\n",
        "from sys import *\n",
        "from collections import *\n",
        "from math import *\n",
        "\n",
        "def checkPalindrome(s):\n",
        "\ts1 = ''.join(i for i in s if i.isalnum())\n",
        "\ts2 = s1.lower()\n",
        "\ts = s2\n",
        "\tif (s[::1] == s[::-1]):\n",
        "\t\treturn \"yes\""
      ],
      "metadata": {
        "id": "uPqbpwQToiN_"
      },
      "execution_count": null,
      "outputs": []
    }
  ]
}