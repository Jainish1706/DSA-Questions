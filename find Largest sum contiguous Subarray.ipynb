{
  "nbformat": 4,
  "nbformat_minor": 0,
  "metadata": {
    "colab": {
      "provenance": []
    },
    "kernelspec": {
      "name": "python3",
      "display_name": "Python 3"
    },
    "language_info": {
      "name": "python"
    }
  },
  "cells": [
    {
      "cell_type": "markdown",
      "source": [
        "Problem statement\n",
        "You are given an array 'arr' of length 'n', consisting of integers.\n",
        "\n",
        "\n",
        "\n",
        "A subarray is a contiguous segment of an array. In other words, a subarray can be formed by removing 0 or more integers from the beginning and 0 or more integers from the end of an array.\n",
        "\n",
        "\n",
        "\n",
        "Find the sum of the subarray (including empty subarray) having maximum sum among all subarrays.\n",
        "\n",
        "\n",
        "\n",
        "The sum of an empty subarray is 0."
      ],
      "metadata": {
        "id": "Ht06Yhl7OyKL"
      }
    },
    {
      "cell_type": "code",
      "source": [
        "def maxSubarraySum(arr, n) :\n",
        "    ans = 0\n",
        "    sum = 0\n",
        "    for i in range(n):\n",
        "        sum += arr[i]\n",
        "        ans = max(sum, ans)\n",
        "        if (sum < 0):\n",
        "            sum = 0\n",
        "\n",
        "    return ans"
      ],
      "metadata": {
        "id": "xuChwPGlOyT0"
      },
      "execution_count": null,
      "outputs": []
    }
  ]
}