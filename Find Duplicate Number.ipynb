{
  "nbformat": 4,
  "nbformat_minor": 0,
  "metadata": {
    "colab": {
      "provenance": []
    },
    "kernelspec": {
      "name": "python3",
      "display_name": "Python 3"
    },
    "language_info": {
      "name": "python"
    }
  },
  "cells": [
    {
      "cell_type": "markdown",
      "source": [
        "Problem statement\n",
        "You are given an array ‘ARR’ of size ‘N’ containing each number between 1 and ‘N’ - 1 at least once. There is a single integer value that is present in the array twice. Your task is to find the duplicate integer value present in the array.\n",
        "\n",
        "For example:\n",
        "\n",
        "Consider ARR = [1, 2, 3, 4, 4], the duplicate integer value present in the array is 4. Hence, the answer is 4 in this case.\n",
        "Note :\n",
        "A duplicate number is always present in the given array."
      ],
      "metadata": {
        "id": "Ht06Yhl7OyKL"
      }
    },
    {
      "cell_type": "code",
      "source": [
        "def findDuplicate(arr):\n",
        "    # n = len(arr)\n",
        "    # for i in range(n):\n",
        "    #     count = 0\n",
        "    #     for j in range(n):\n",
        "    #         if arr[i] == arr[j]:\n",
        "    #             count = count + 1\n",
        "    #         if count > 1:\n",
        "    #             return arr[i]\n",
        "    n = len(arr)\n",
        "    a = [0]*(n+1)\n",
        "    for i in range(n):\n",
        "        a[arr[i]] = a[arr[i]]+1\n",
        "        if a[arr[i]] > 1:\n",
        "            return arr[i]"
      ],
      "metadata": {
        "id": "xuChwPGlOyT0"
      },
      "execution_count": null,
      "outputs": []
    }
  ]
}