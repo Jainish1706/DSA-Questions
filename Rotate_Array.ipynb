{
  "nbformat": 4,
  "nbformat_minor": 0,
  "metadata": {
    "colab": {
      "provenance": []
    },
    "kernelspec": {
      "name": "python3",
      "display_name": "Python 3"
    },
    "language_info": {
      "name": "python"
    }
  },
  "cells": [
    {
      "cell_type": "markdown",
      "source": [
        "Problem statement\n",
        "Given an array 'arr' with 'n' elements, the task is to rotate the array to the left by 'k' steps, where 'k' is non-negative."
      ],
      "metadata": {
        "id": "pD00-uv8K4Kl"
      }
    },
    {
      "cell_type": "code",
      "source": [
        "def rotateArray(arr: list, k: int) -> list:\n",
        "\n",
        "    n = len(arr)\n",
        "    for j in range(k):\n",
        "        temp = arr[0]\n",
        "        for i in range(n-1):\n",
        "            arr[i] = arr[i+1]\n",
        "        arr[n-1] = temp\n",
        "    return arr\n",
        "\n",
        "arr = [1,2,3,4,5]\n",
        "c = rotateArray(arr, 2)\n",
        "print(c)"
      ],
      "metadata": {
        "id": "tJw_JI0-s7PB"
      },
      "execution_count": null,
      "outputs": []
    }
  ]
}