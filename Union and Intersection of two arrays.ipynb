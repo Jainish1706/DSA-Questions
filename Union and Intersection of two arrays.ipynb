{
  "nbformat": 4,
  "nbformat_minor": 0,
  "metadata": {
    "colab": {
      "provenance": []
    },
    "kernelspec": {
      "name": "python3",
      "display_name": "Python 3"
    },
    "language_info": {
      "name": "python"
    }
  },
  "cells": [
    {
      "cell_type": "markdown",
      "source": [
        "Problem statement\n",
        "You have been given two arrays/list ‘ARR1’ and ‘ARR2’ consisting of ‘N’ and ‘M’ integers respectively. Your task is to return the number of elements common to ‘ARR1’ and ‘ARR2’ and the number of elements in the union of ‘ARR1’ and ‘ARR2’."
      ],
      "metadata": {
        "id": "Sb9UYkXDBrQW"
      }
    },
    {
      "cell_type": "code",
      "execution_count": 2,
      "metadata": {
        "colab": {
          "base_uri": "https://localhost:8080/"
        },
        "id": "K1QFp7HF-cqO",
        "outputId": "7810da71-d68d-4b4d-e55b-acf5139fcba9"
      },
      "outputs": [
        {
          "output_type": "stream",
          "name": "stdout",
          "text": [
            "(3, 9)\n"
          ]
        }
      ],
      "source": [
        "def findSimilarity(arr1, arr2, n, m):\n",
        "    c1 = 0\n",
        "    for i in range(n):\n",
        "        for j in range(m):\n",
        "            if (arr2[j] == arr1[i]):\n",
        "                c1 = c1 + 1\n",
        "\n",
        "    c2 = n + m - c1\n",
        "    b = c1, c2\n",
        "    return b\n",
        "\n",
        "arr1 = [1,2,3,4,5,6,7]\n",
        "arr2 = [5,6,7,8,9]\n",
        "n = len(arr1)\n",
        "m = len(arr2)\n",
        "d = findSimilarity(arr1, arr2, n, m)\n",
        "print(d)"
      ]
    }
  ]
}