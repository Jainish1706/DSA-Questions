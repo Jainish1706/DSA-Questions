{
  "nbformat": 4,
  "nbformat_minor": 0,
  "metadata": {
    "colab": {
      "provenance": []
    },
    "kernelspec": {
      "name": "python3",
      "display_name": "Python 3"
    },
    "language_info": {
      "name": "python"
    }
  },
  "cells": [
    {
      "cell_type": "code",
      "execution_count": null,
      "metadata": {
        "id": "1-ztqeBYJ57Y"
      },
      "outputs": [],
      "source": [
        "def sort0and1(n: int, A: List[int]) -> None:\n",
        "    a = []\n",
        "    b = []\n",
        "    c = []\n",
        "    for i in range(n):\n",
        "        if (A[i] == 0):\n",
        "            a.append(A[i])\n",
        "        else:\n",
        "            b.append(A[i])\n",
        "    c = a + b\n",
        "    for i in range(n):\n",
        "        A[i] = c[i]\n",
        "    return A"
      ]
    }
  ]
}