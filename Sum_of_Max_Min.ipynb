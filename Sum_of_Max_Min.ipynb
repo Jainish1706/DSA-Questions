{
  "nbformat": 4,
  "nbformat_minor": 0,
  "metadata": {
    "colab": {
      "provenance": []
    },
    "kernelspec": {
      "name": "python3",
      "display_name": "Python 3"
    },
    "language_info": {
      "name": "python"
    }
  },
  "cells": [
    {
      "cell_type": "markdown",
      "source": [
        "Problem statement\n",
        "You are given an array “ARR” of size N. Your task is to find out the sum of maximum and minimum elements in the array.\n",
        "\n",
        "Follow Up:\n",
        "Can you do the above task in a minimum number of comparisons?"
      ],
      "metadata": {
        "id": "dmStEGsGO2vG"
      }
    },
    {
      "cell_type": "code",
      "execution_count": null,
      "metadata": {
        "id": "qtG7xtHwOxPs"
      },
      "outputs": [],
      "source": [
        "from os import *\n",
        "from sys import *\n",
        "from collections import *\n",
        "from math import *\n",
        "\n",
        "def sumOfMaxMin(arr):\n",
        "    n = len(arr)\n",
        "    a = sorted(arr)\n",
        "    b = a[0] + a[n-1]\n",
        "    return b"
      ]
    }
  ]
}