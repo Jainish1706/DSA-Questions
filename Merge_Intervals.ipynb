{
  "nbformat": 4,
  "nbformat_minor": 0,
  "metadata": {
    "colab": {
      "provenance": []
    },
    "kernelspec": {
      "name": "python3",
      "display_name": "Python 3"
    },
    "language_info": {
      "name": "python"
    }
  },
  "cells": [
    {
      "cell_type": "markdown",
      "source": [
        "Problem statement\n",
        "You are given N number of intervals, where each interval contains two integers denoting the start time and the end time for the interval.\n",
        "\n",
        "The task is to merge all the overlapping intervals and return the list of merged intervals sorted by increasing order of their start time.\n",
        "\n",
        "Two intervals [A,B] and [C,D] are said to be overlapping with each other if there is at least one integer that is covered by both of them.\n",
        "\n",
        "For example:\n",
        "\n",
        "For the given 5 intervals - [1, 4], [3, 5], [6, 8], [10, 12], [8, 9].\n",
        "\n",
        "Since intervals [1, 4] and [3, 5] overlap with each other, we will merge them into a single interval as [1, 5].\n",
        "\n",
        "Similarly, [6, 8] and [8, 9] overlap, merge them into [6,9].\n",
        "\n",
        "Interval [10, 12] does not overlap with any interval.\n",
        "\n",
        "Final List after merging overlapping intervals: [1, 5], [6, 9], [10, 12]."
      ],
      "metadata": {
        "id": "Ht06Yhl7OyKL"
      }
    },
    {
      "cell_type": "code",
      "source": [
        "def mergeIntervals(intervals):\n",
        "    a = []\n",
        "    a.append(intervals[0])\n",
        "    for i in intervals[1:]:\n",
        "      if a[-1][0] <= i[0] <= a[-1][-1]:\n",
        "        a[-1][-1] = max(a[-1][-1], i[-1])\n",
        "      else:\n",
        "        a.append(i)\n",
        "    intervals = a\n",
        "    return intervals"
      ],
      "metadata": {
        "id": "xuChwPGlOyT0"
      },
      "execution_count": 58,
      "outputs": []
    }
  ]
}