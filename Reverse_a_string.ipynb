{
  "nbformat": 4,
  "nbformat_minor": 0,
  "metadata": {
    "colab": {
      "provenance": []
    },
    "kernelspec": {
      "name": "python3",
      "display_name": "Python 3"
    },
    "language_info": {
      "name": "python"
    }
  },
  "cells": [
    {
      "cell_type": "markdown",
      "source": [
        "Reverse a String"
      ],
      "metadata": {
        "id": "NC9ngjFKpCBm"
      }
    },
    {
      "cell_type": "code",
      "source": [
        "from sys import *\n",
        "from collections import *\n",
        "from math import *\n",
        "\n",
        "from typing import *\n",
        "\n",
        "def stringReverse(S: str)-> str:\n",
        "    s = S[::-1]\n",
        "    return s"
      ],
      "metadata": {
        "id": "uPqbpwQToiN_"
      },
      "execution_count": null,
      "outputs": []
    }
  ]
}