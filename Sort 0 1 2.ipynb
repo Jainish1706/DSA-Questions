{
  "cells": [
    {
      "cell_type": "markdown",
      "source": [
        "Problem statement\n",
        "You have been given an integer array/list(ARR) of size 'N'. It only contains 0s, 1s and 2s. Write a solution to sort this array/list.\n",
        "\n",
        "Note :\n",
        "Try to solve the problem in 'Single Scan'. ' Single Scan' refers to iterating over the array/list just once or to put it in other words, you will be visiting each element in the array/list just once."
      ],
      "metadata": {
        "id": "R0CVYIJV7QeP"
      }
    },
    {
      "cell_type": "code",
      "execution_count": null,
      "metadata": {
        "id": "zwFnJsE6vjf8"
      },
      "outputs": [],
      "source": [
        "def sort012(arr, n) :\n",
        "    a = [] #0\n",
        "    b = [] #1\n",
        "    c = [] #2\n",
        "    d = [] #final list\n",
        "    for i in range(n):\n",
        "      if arr[i] == 0:\n",
        "        a.append(arr[i])\n",
        "      elif arr[i] == 1:\n",
        "        b.append(arr[i])\n",
        "      else:\n",
        "        c.append(arr[i])\n",
        "\n",
        "    d = a + b + c\n",
        "    return d\n"
      ]
    }
  ],
  "metadata": {
    "colab": {
      "name": "Welcome To Colaboratory",
      "toc_visible": true,
      "provenance": []
    },
    "kernelspec": {
      "display_name": "Python 3",
      "name": "python3"
    }
  },
  "nbformat": 4,
  "nbformat_minor": 0
}