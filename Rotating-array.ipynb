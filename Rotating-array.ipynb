{
  "nbformat": 4,
  "nbformat_minor": 0,
  "metadata": {
    "colab": {
      "provenance": []
    },
    "kernelspec": {
      "name": "python3",
      "display_name": "Python 3"
    },
    "language_info": {
      "name": "python"
    }
  },
  "cells": [
    {
      "cell_type": "code",
      "source": [
        "def isCyclicRotation(p: str, q: str) -> int:\n",
        "    # p_list = list(p)\n",
        "    # q_list = list(q)\n",
        "    # n = len(p)\n",
        "    # for i in range(n):\n",
        "    #     temp = p_list[n-1]\n",
        "    #     for j in range(n):\n",
        "    #         p_list[n-1-j] = p_list[n-2-j]\n",
        "    #     p_list[0] = temp\n",
        "    #     if p_list == q_list:\n",
        "    #         return 1\n",
        "    # return 0\n",
        "    # n = len(p)\n",
        "    # temp = p + q\n",
        "    # if (temp.count(q) > 0):\n",
        "    #     return 1\n",
        "    # else:\n",
        "    #     return 0\n",
        "\n",
        "    n = len(p)\n",
        "    for i in range(n):\n",
        "        if p[i] == q[0]:\n",
        "            if p[i:] + p[:i] == q:\n",
        "                return 1\n",
        "    return 0"
      ],
      "metadata": {
        "colab": {
          "base_uri": "https://localhost:8080/"
        },
        "id": "y6a6sdzlwGkx",
        "outputId": "be53337f-d24c-46f3-8fbd-3462a010cb03"
      },
      "execution_count": 26,
      "outputs": [
        {
          "output_type": "stream",
          "name": "stdout",
          "text": [
            "1\n"
          ]
        }
      ]
    }
  ]
}