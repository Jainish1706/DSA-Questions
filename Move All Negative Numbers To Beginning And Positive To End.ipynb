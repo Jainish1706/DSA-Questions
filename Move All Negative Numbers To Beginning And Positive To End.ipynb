{
  "nbformat": 4,
  "nbformat_minor": 0,
  "metadata": {
    "colab": {
      "provenance": []
    },
    "kernelspec": {
      "name": "python3",
      "display_name": "Python 3"
    },
    "language_info": {
      "name": "python"
    }
  },
  "cells": [
    {
      "cell_type": "markdown",
      "source": [
        "Problem statement\n",
        "You are given an array 'ARR' consisting of 'N' integers. You need to rearrange the array elements such that all negative numbers appear before all positive numbers.\n",
        "\n",
        "Note:\n",
        "The order of elements in the resulting array is not important."
      ],
      "metadata": {
        "id": "zRczzU_A-fX8"
      }
    },
    {
      "cell_type": "code",
      "execution_count": null,
      "metadata": {
        "id": "K1QFp7HF-cqO"
      },
      "outputs": [],
      "source": [
        "def separateNegativeAndPositive(nums):\n",
        "    a = [] #Negative\n",
        "    b = [] #positive\n",
        "    c = []\n",
        "    n = len(nums)\n",
        "    for i in range(n):\n",
        "        if nums[i] < 0:\n",
        "            a.append(nums[i])\n",
        "        else:\n",
        "            b.append(nums[i])\n",
        "    c = a + b\n",
        "    return c"
      ]
    }
  ]
}